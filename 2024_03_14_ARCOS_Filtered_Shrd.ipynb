{
  "nbformat": 4,
  "nbformat_minor": 0,
  "metadata": {
    "colab": {
      "provenance": [],
      "machine_shape": "hm",
      "mount_file_id": "1A5rda7ow4A93n8Uw5JB_JpNA73I84s1S",
      "authorship_tag": "ABX9TyN1Yfc5yoCYMolJUuAg+ocr"
    },
    "kernelspec": {
      "name": "python3",
      "display_name": "Python 3"
    },
    "language_info": {
      "name": "python"
    }
  },
  "cells": [
    {
      "cell_type": "code",
      "execution_count": null,
      "metadata": {
        "id": "AAkkIuNv92Ml"
      },
      "outputs": [],
      "source": [
        "import pandas as pd\n",
        "import os\n",
        "import csv\n",
        "from functools import reduce"
      ]
    },
    {
      "cell_type": "code",
      "source": [
        "# Read the contents of the text file\n",
        "with open('/content/drive/MyDrive/H10-PublicHealth/ARCOS/dataCensus/quarter_to_months.txt', 'r') as file:\n",
        "    dictionary_str = file.read()\n",
        "\n",
        "# Parse the string into a dictionary\n",
        "quarter_to_months = eval(dictionary_str)"
      ],
      "metadata": {
        "id": "B9UZie2aTWma"
      },
      "execution_count": null,
      "outputs": []
    },
    {
      "cell_type": "code",
      "source": [
        "# DataFrame with County FIPS code for all counties in the 50 US States + DC\n",
        "cnty = pd.read_csv(\"/content/drive/MyDrive/H10-PublicHealth/ARCOS/dataCensus/countyfips.csv\")\n",
        "  # generated in 2024-03-09-Homophily-Dissimilarity.ipynb - From Serena's other projects"
      ],
      "metadata": {
        "id": "I6fTUgqc99z-"
      },
      "execution_count": null,
      "outputs": []
    },
    {
      "cell_type": "markdown",
      "source": [
        "## Andrew: Update the \"yearquarter\" variable and execute the code below"
      ],
      "metadata": {
        "id": "2KjSGzsLqj0R"
      }
    },
    {
      "cell_type": "code",
      "source": [
        "yearquarter = \"2019Q1\" # from 2006Q1 to 2019Q4"
      ],
      "metadata": {
        "id": "zb3_Wb-KTnEK"
      },
      "execution_count": null,
      "outputs": []
    },
    {
      "cell_type": "code",
      "source": [
        "# Initiate a lank list to store year-month pairs\n",
        "rows = []\n",
        "\n",
        "# Iterate over each row in the DataFrame\n",
        "for index, row in cnty.iterrows():\n",
        "    # Multiply each row by three\n",
        "    for i in range(3):\n",
        "        year_months = quarter_to_months[yearquarter] # obtain the values corresponding to the key (which is the specified \"yearquarter\")\n",
        "\n",
        "        row = {\n",
        "            'FIPS': row['FIPS'],\n",
        "            'buyer_cnty_state': row['buyer_cnty_state'],\n",
        "            'year_month': year_months[i]\n",
        "        }\n",
        "        rows.append(row)\n",
        "\n",
        "# Create a new df from the list of new rows\n",
        "cnty_df = pd.DataFrame(rows)\n",
        "cnty_df"
      ],
      "metadata": {
        "id": "FK7c5z1LOq9O"
      },
      "execution_count": null,
      "outputs": []
    },
    {
      "cell_type": "code",
      "source": [
        "# Define the column headers to be used\n",
        "column_headers = ['transaction_code', 'transaction_date', 'drug_code', 'buyer_bus_act', 'buyer_county', 'buyer_state', 'calc_base_wt_in_gm']\n",
        "\n",
        "# Define the directory containing the files\n",
        "directory = f\"/content/drive/MyDrive/H10-PublicHealth/ARCOS/dataARCOS/dataRaw/\" + yearquarter + \"/\"\n",
        "files = os.listdir(directory)\n",
        "\n",
        "# Initialize an empty DataFrame to store the final result\n",
        "result_df = pd.DataFrame()\n",
        "\n",
        "for file in files:\n",
        "    if file.endswith(\".csv\"):\n",
        "        df = pd.read_csv(os.path.join(directory, file), usecols = column_headers)\n",
        "\n",
        "        df[\"buyer_cnty_state\"] = df[\"buyer_county\"]+ \", \" + df[\"buyer_state\"]\n",
        "\n",
        "        mask = (\n",
        "            (df[\"transaction_code\"] == \"S\") &\n",
        "            (df['drug_code'].isin([\"9064\", \"9250B\"])) &\n",
        "            (~df['buyer_bus_act'].isin([\"MLP-ANIMAL SHELTER\", \"CANINE HANDLER\", \"TEACHING INSTITUTION\"]))\n",
        "        )\n",
        "\n",
        "        # Apply the mask to the DataFrame\n",
        "        filtered_df = df[mask]\n",
        "\n",
        "        # Creating a new column, \"year_month\" : the first 7 characters (year and month) from the \"transaction_date\" column.\n",
        "        filtered_df.loc[:, \"year_month\"] = filtered_df[\"transaction_date\"].str[:7]\n",
        "\n",
        "        # Filtered DataFrames for drug_code \"9064\" (BUPRENORPHINE) and \"9250B\" (METHADONE)\n",
        "        df_9064_filtered = filtered_df[filtered_df[\"drug_code\"] == \"9064\"]\n",
        "        df_9250B_filtered = filtered_df[filtered_df[\"drug_code\"] == \"9250B\"]\n",
        "\n",
        "        # Grouping and aggregation for drug_code \"9064\"\n",
        "        df_9064_grouped = df_9064_filtered.groupby(['buyer_cnty_state', 'year_month']).agg(\n",
        "            BUPRENORPHINE_transaction =('drug_code', 'size'),\n",
        "            BUPRENORPHINE_wt_in_gm=('calc_base_wt_in_gm', 'sum')\n",
        "        ).reset_index()\n",
        "\n",
        "        # Grouping and aggregation for drug_code \"9250B\"\n",
        "        df_9250B_grouped = df_9250B_filtered.groupby(['buyer_cnty_state', 'year_month']).agg(\n",
        "            METHADONE_transaction =('drug_code', 'size'),\n",
        "            METHADONE_wt_in_gm=('calc_base_wt_in_gm', 'sum')\n",
        "        ).reset_index()\n",
        "\n",
        "        # Merge the two DataFrames on 'buyer_cnty_state' and 'year_month'\n",
        "        df_sum = pd.merge(df_9064_grouped, df_9250B_grouped, on=['buyer_cnty_state', 'year_month'], how='inner')\n",
        "\n",
        "        # Merge the current result with previous results\n",
        "        result_df = pd.merge(cnty_df, df_sum, on=['buyer_cnty_state', 'year_month'], how='left')\n",
        "\n",
        "        # Fill NaN values (== no transactions) with 0\n",
        "        result_df.fillna(0, inplace=True)\n",
        "\n",
        "        # Save the DataFrame as a CSV File\n",
        "        result_df.to_csv(f\"/content/drive/MyDrive/H10-PublicHealth/ARCOS/dataARCOS/CountyQuarterly/arcos-cnty-{yearquarter}.csv\", index=False)"
      ],
      "metadata": {
        "id": "waQTs0VZQkO3"
      },
      "execution_count": null,
      "outputs": []
    }
  ]
}